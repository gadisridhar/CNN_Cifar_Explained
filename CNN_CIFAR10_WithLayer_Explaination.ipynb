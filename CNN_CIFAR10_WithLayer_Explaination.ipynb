{
  "nbformat": 4,
  "nbformat_minor": 0,
  "metadata": {
    "colab": {
      "name": "CNN_CIFAR10_WithLayer_Explaination.ipynb",
      "provenance": [],
      "collapsed_sections": []
    },
    "kernelspec": {
      "name": "python3",
      "display_name": "Python 3"
    },
    "language_info": {
      "name": "python"
    },
    "accelerator": "GPU",
    "gpuClass": "standard"
  },
  "cells": [
    {
      "cell_type": "code",
      "execution_count": 2,
      "metadata": {
        "id": "Yokplq-Uq5yf"
      },
      "outputs": [],
      "source": [
        "from keras.models import  Sequential\n",
        "from keras import models, layers\n",
        "import tensorflow as tf\n",
        "from keras.layers import Flatten, Dense, Conv2D, MaxPooling2D\n",
        "import matplotlib.pyplot as plt\n",
        "import numpy as np\n",
        "from tensorflow.keras import datasets\n",
        "from keras.layers.core.activation import Activation\n",
        "from sklearn.metrics import classification_report, confusion_matrix"
      ]
    },
    {
      "cell_type": "code",
      "source": [
        "(X_train,y_train),(X_test,y_test) = datasets.cifar10.load_data()"
      ],
      "metadata": {
        "colab": {
          "base_uri": "https://localhost:8080/"
        },
        "id": "tuAkZKdJrHus",
        "outputId": "f1072f7c-72bd-4f96-f859-d62359a19cfd"
      },
      "execution_count": 3,
      "outputs": [
        {
          "output_type": "stream",
          "name": "stdout",
          "text": [
            "Downloading data from https://www.cs.toronto.edu/~kriz/cifar-10-python.tar.gz\n",
            "170500096/170498071 [==============================] - 2s 0us/step\n",
            "170508288/170498071 [==============================] - 2s 0us/step\n"
          ]
        }
      ]
    },
    {
      "cell_type": "code",
      "source": [
        "print(X_train.shape)\n",
        "print(y_train.shape)\n",
        "print(X_test.shape)\n",
        "print(y_test.shape)"
      ],
      "metadata": {
        "colab": {
          "base_uri": "https://localhost:8080/"
        },
        "id": "n-yhQleMrHxg",
        "outputId": "7ae14ef3-df57-4c5c-e426-948f7117a443"
      },
      "execution_count": 4,
      "outputs": [
        {
          "output_type": "stream",
          "name": "stdout",
          "text": [
            "(50000, 32, 32, 3)\n",
            "(50000, 1)\n",
            "(10000, 32, 32, 3)\n",
            "(10000, 1)\n"
          ]
        }
      ]
    },
    {
      "cell_type": "code",
      "source": [
        "\n",
        "print(y_train.shape)\n",
        "print(y_train)\n",
        "#CONVERT Y INTO 1 DIMENSIONAL ARRAY"
      ],
      "metadata": {
        "colab": {
          "base_uri": "https://localhost:8080/"
        },
        "id": "0Y6y9jXTrH2i",
        "outputId": "3b6bde36-8097-40dd-fd4d-d43252a7fb87"
      },
      "execution_count": 5,
      "outputs": [
        {
          "output_type": "stream",
          "name": "stdout",
          "text": [
            "(50000, 1)\n",
            "[[6]\n",
            " [9]\n",
            " [9]\n",
            " ...\n",
            " [9]\n",
            " [1]\n",
            " [1]]\n"
          ]
        }
      ]
    },
    {
      "cell_type": "code",
      "source": [
        "# Train = 50000 images\n",
        "# Test = 10000 images\n",
        "# Image SIze = 32 * 32 pixel\n",
        "# RGB pattern = 3"
      ],
      "metadata": {
        "id": "chWLxnQYrH5D"
      },
      "execution_count": 6,
      "outputs": []
    },
    {
      "cell_type": "code",
      "source": [
        "plt.imshow(X_train[140])"
      ],
      "metadata": {
        "colab": {
          "base_uri": "https://localhost:8080/",
          "height": 283
        },
        "id": "_EZyzK-Trfga",
        "outputId": "36610113-b672-4e89-c4f6-90292849023e"
      },
      "execution_count": 7,
      "outputs": [
        {
          "output_type": "execute_result",
          "data": {
            "text/plain": [
              "<matplotlib.image.AxesImage at 0x7f5b58d7c890>"
            ]
          },
          "metadata": {},
          "execution_count": 7
        },
        {
          "output_type": "display_data",
          "data": {
            "text/plain": [
              "<Figure size 432x288 with 1 Axes>"
            ],
            "image/png": "[encoded data removed]"
          },
          "metadata": {
            "needs_background": "light"
          }
        }
      ]
    },
    {
      "cell_type": "code",
      "source": [
        "# CIFAR 10 = https://www.cs.toronto.edu/~kriz/cifar.html\n",
        "# 10 CATEGORIES OF  IMAGE CATEGORIES LISTED"
      ],
      "metadata": {
        "id": "ZduiW9oDrfjC"
      },
      "execution_count": 8,
      "outputs": []
    },
    {
      "cell_type": "code",
      "source": [
        "classes = [\"airplane\",\"automobile\",\"bird\",\"cat\",\"deer\",\"dog\",\"frog\",\"horse\",\"ship\",\"truck\"]"
      ],
      "metadata": {
        "id": "Gtl4AhmUrflc"
      },
      "execution_count": 9,
      "outputs": []
    },
    {
      "cell_type": "code",
      "source": [
        "y_train = y_train.reshape(-1,)\n",
        "print(y_train)\n",
        "#CONVERT Y INTO 1 DIMENSIONAL ARRAY"
      ],
      "metadata": {
        "colab": {
          "base_uri": "https://localhost:8080/"
        },
        "id": "ufj0I95mrfoA",
        "outputId": "4cd1681c-857e-4e97-ae3d-44aa7928a3ab"
      },
      "execution_count": 10,
      "outputs": [
        {
          "output_type": "stream",
          "name": "stdout",
          "text": [
            "[6 9 9 ... 9 1 1]\n"
          ]
        }
      ]
    },
    {
      "cell_type": "code",
      "source": [
        "y_test = y_test.reshape(-1,)\n",
        "print(y_test)\n",
        "#CONVERT Y INTO 1 DIMENSIONAL ARRAY"
      ],
      "metadata": {
        "colab": {
          "base_uri": "https://localhost:8080/"
        },
        "id": "OBGg1BuurfqY",
        "outputId": "2c1a5d35-1b5b-4af1-af8f-977b788143e1"
      },
      "execution_count": 11,
      "outputs": [
        {
          "output_type": "stream",
          "name": "stdout",
          "text": [
            "[3 8 8 ... 5 1 7]\n"
          ]
        }
      ]
    },
    {
      "cell_type": "code",
      "source": [
        "def plot_sample(X, y , index):\n",
        "  plt.figure(figsize=(5,2))\n",
        "  plt.imshow(X[index])\n",
        "  plt.xlabel(classes[y[index]])"
      ],
      "metadata": {
        "id": "NFfK4voirftA"
      },
      "execution_count": 12,
      "outputs": []
    },
    {
      "cell_type": "code",
      "source": [
        "# #before data ormalization\n",
        "# print(X_train)\n",
        "# print(X_test)"
      ],
      "metadata": {
        "id": "ikKRcwkerfva"
      },
      "execution_count": 13,
      "outputs": []
    },
    {
      "cell_type": "code",
      "source": [
        "# after normalization - WHy inorder to make it Gaussian in Nature\n",
        "X_train = X_train / 255\n",
        "X_test = X_test / 255\n",
        "# print(X_train)\n",
        "# print(X_test)"
      ],
      "metadata": {
        "id": "S56JNjzBrfx6"
      },
      "execution_count": 14,
      "outputs": []
    },
    {
      "cell_type": "code",
      "source": [
        "# Trying with CNN for Model evaluation in order to evaluate the mode performance\n",
        "# Having CNN allows allows model to build COnvolutional networks with better feature extraction at COnvolution Layer\n",
        "# Adding Relu acitvation to better compact the model\n",
        "# maxppooling to  reduce the DATA dimension, shrinking the arrays to smaller arrays and then flatten the array to get the data for output"
      ],
      "metadata": {
        "id": "YDxkXF8brf0c"
      },
      "execution_count": 60,
      "outputs": []
    },
    {
      "cell_type": "code",
      "source": [
        "categoryCount = len(classes)\n",
        "categoryCount"
      ],
      "metadata": {
        "colab": {
          "base_uri": "https://localhost:8080/"
        },
        "id": "TFFKcRqrtgDc",
        "outputId": "77fb4796-8299-4c6a-e3ba-b1f0f3b8e9b9"
      },
      "execution_count": 16,
      "outputs": [
        {
          "output_type": "execute_result",
          "data": {
            "text/plain": [
              "10"
            ]
          },
          "metadata": {},
          "execution_count": 16
        }
      ]
    },
    {
      "cell_type": "code",
      "source": [
        "modelCNN = models.Sequential()\n",
        "\n",
        "modelCNN.add(layers.Conv2D(filters=32, kernel_size=(3,3), activation='relu', input_shape=(X_train.shape[1],X_train.shape[2],X_train.shape[3])))\n",
        "modelCNN.add(layers.MaxPooling2D((2,2)))\n",
        "\n",
        "modelCNN.add(layers.Conv2D(filters=64, kernel_size=(3,3), activation='relu'))\n",
        "modelCNN.add(layers.MaxPooling2D((2,2)))\n",
        "\n",
        "modelCNN.add(layers.Flatten())\n",
        "modelCNN.add(layers.Dense(64, activation='relu'))\n",
        "modelCNN.add(layers.Dense(categoryCount,activation='softmax'))\n",
        "\n",
        "\n"
      ],
      "metadata": {
        "id": "085iJW5crgF4"
      },
      "execution_count": 17,
      "outputs": []
    },
    {
      "cell_type": "code",
      "source": [
        "modelCNN.compile(optimizer='adam', metrics=['accuracy'], loss=\"sparse_categorical_crossentropy\")"
      ],
      "metadata": {
        "id": "eM3BzboqrgI5"
      },
      "execution_count": 18,
      "outputs": []
    },
    {
      "cell_type": "code",
      "source": [
        "modelCNN.fit(X_train, y_train, epochs=10)"
      ],
      "metadata": {
        "colab": {
          "base_uri": "https://localhost:8080/"
        },
        "id": "AC1WQU-5rgLo",
        "outputId": "cf6af496-8fad-45c7-fa8e-e3c95988f6d8"
      },
      "execution_count": 21,
      "outputs": [
        {
          "output_type": "stream",
          "name": "stdout",
          "text": [
            "Epoch 1/10\n",
            "1563/1563 [==============================] - 6s 4ms/step - loss: 0.2870 - accuracy: 0.8978\n",
            "Epoch 2/10\n",
            "1563/1563 [==============================] - 6s 4ms/step - loss: 0.2701 - accuracy: 0.9021\n",
            "Epoch 3/10\n",
            "1563/1563 [==============================] - 6s 4ms/step - loss: 0.2537 - accuracy: 0.9065\n",
            "Epoch 4/10\n",
            "1563/1563 [==============================] - 6s 4ms/step - loss: 0.2387 - accuracy: 0.9149\n",
            "Epoch 5/10\n",
            "1563/1563 [==============================] - 6s 4ms/step - loss: 0.2244 - accuracy: 0.9182\n",
            "Epoch 6/10\n",
            "1563/1563 [==============================] - 6s 4ms/step - loss: 0.2112 - accuracy: 0.9236\n",
            "Epoch 7/10\n",
            "1563/1563 [==============================] - 6s 4ms/step - loss: 0.1959 - accuracy: 0.9302\n",
            "Epoch 8/10\n",
            "1563/1563 [==============================] - 6s 4ms/step - loss: 0.1909 - accuracy: 0.9306\n",
            "Epoch 9/10\n",
            "1563/1563 [==============================] - 6s 4ms/step - loss: 0.1756 - accuracy: 0.9354\n",
            "Epoch 10/10\n",
            "1563/1563 [==============================] - 6s 4ms/step - loss: 0.1719 - accuracy: 0.9376\n"
          ]
        },
        {
          "output_type": "execute_result",
          "data": {
            "text/plain": [
              "<keras.callbacks.History at 0x7f5adc690050>"
            ]
          },
          "metadata": {},
          "execution_count": 21
        }
      ]
    },
    {
      "cell_type": "code",
      "source": [
        "modelCNN.evaluate(X_test, y_test)\n",
        "#MODEL  ACCURACY ON TEST DATA IS 67, VERY LOW WITH USING CNN"
      ],
      "metadata": {
        "colab": {
          "base_uri": "https://localhost:8080/"
        },
        "id": "5Lff4R6ZrgOD",
        "outputId": "3a3ad082-c832-41f3-8353-6d1908cc6f8a"
      },
      "execution_count": 31,
      "outputs": [
        {
          "output_type": "stream",
          "name": "stdout",
          "text": [
            "313/313 [==============================] - 1s 3ms/step - loss: 1.9508 - accuracy: 0.6778\n"
          ]
        },
        {
          "output_type": "execute_result",
          "data": {
            "text/plain": [
              "[1.9507946968078613, 0.6777999997138977]"
            ]
          },
          "metadata": {},
          "execution_count": 31
        }
      ]
    },
    {
      "cell_type": "code",
      "source": [
        "y_pred = modelCNN.predict(X_test)"
      ],
      "metadata": {
        "id": "3YGNPTEtrH7k"
      },
      "execution_count": 26,
      "outputs": []
    },
    {
      "cell_type": "code",
      "source": [
        "y_pred_Multiclass = [np.argmax(data) for data in y_pred]"
      ],
      "metadata": {
        "id": "KfQk7J5zvMGt"
      },
      "execution_count": 27,
      "outputs": []
    },
    {
      "cell_type": "code",
      "source": [
        "#TEST DATA : comparing YTEST and YPRED TEST based on results to see what percentage of True Postives were returned from first 10 results(# RESULT 100 ACCURATE FOR FIRST 10 DATA)\n",
        "print(y_test[:10])\n",
        "print(y_pred_Multiclass[:10])"
      ],
      "metadata": {
        "colab": {
          "base_uri": "https://localhost:8080/"
        },
        "id": "1JDT4JT-cy3q",
        "outputId": "14465fc3-9659-494e-db18-2b6affe87f13"
      },
      "execution_count": 41,
      "outputs": [
        {
          "output_type": "stream",
          "name": "stdout",
          "text": [
            "[3 8 8 0 6 6 1 6 3 1]\n",
            "[3, 8, 8, 0, 6, 6, 1, 6, 3, 1]\n"
          ]
        }
      ]
    },
    {
      "cell_type": "code",
      "source": [
        "#Classification Report TEST DATA\n",
        "print(classification_report(y_test, y_pred_Multiclass))"
      ],
      "metadata": {
        "colab": {
          "base_uri": "https://localhost:8080/"
        },
        "id": "EfsOcvkbvMJM",
        "outputId": "b1da2e49-eb5b-4f42-c62a-33fb8c36df96"
      },
      "execution_count": 28,
      "outputs": [
        {
          "output_type": "stream",
          "name": "stdout",
          "text": [
            "              precision    recall  f1-score   support\n",
            "\n",
            "           0       0.72      0.72      0.72      1000\n",
            "           1       0.81      0.77      0.79      1000\n",
            "           2       0.60      0.54      0.57      1000\n",
            "           3       0.47      0.48      0.48      1000\n",
            "           4       0.64      0.59      0.62      1000\n",
            "           5       0.55      0.64      0.59      1000\n",
            "           6       0.77      0.73      0.75      1000\n",
            "           7       0.71      0.74      0.72      1000\n",
            "           8       0.79      0.79      0.79      1000\n",
            "           9       0.75      0.78      0.76      1000\n",
            "\n",
            "    accuracy                           0.68     10000\n",
            "   macro avg       0.68      0.68      0.68     10000\n",
            "weighted avg       0.68      0.68      0.68     10000\n",
            "\n"
          ]
        }
      ]
    },
    {
      "cell_type": "code",
      "source": [
        "y_predTrain = modelCNN.predict(X_train)\n",
        "y_pred_MulticlassTrain = [np.argmax(data) for data in y_predTrain]"
      ],
      "metadata": {
        "id": "mvBb_VPPX-pP"
      },
      "execution_count": 29,
      "outputs": []
    },
    {
      "cell_type": "code",
      "source": [
        "#Classification Report TRAIN DATA\n",
        "print(classification_report(y_train, y_pred_MulticlassTrain))"
      ],
      "metadata": {
        "colab": {
          "base_uri": "https://localhost:8080/"
        },
        "id": "xEYNYFQAvMN9",
        "outputId": "b0dbbbf9-8f31-4012-aeb4-c11afdd30b36"
      },
      "execution_count": 30,
      "outputs": [
        {
          "output_type": "stream",
          "name": "stdout",
          "text": [
            "              precision    recall  f1-score   support\n",
            "\n",
            "           0       0.98      0.97      0.97      5000\n",
            "           1       0.99      0.98      0.99      5000\n",
            "           2       0.97      0.93      0.95      5000\n",
            "           3       0.92      0.91      0.91      5000\n",
            "           4       0.97      0.95      0.96      5000\n",
            "           5       0.90      0.96      0.93      5000\n",
            "           6       0.98      0.96      0.97      5000\n",
            "           7       0.97      0.98      0.98      5000\n",
            "           8       0.98      0.99      0.98      5000\n",
            "           9       0.97      0.99      0.98      5000\n",
            "\n",
            "    accuracy                           0.96     50000\n",
            "   macro avg       0.96      0.96      0.96     50000\n",
            "weighted avg       0.96      0.96      0.96     50000\n",
            "\n"
          ]
        }
      ]
    },
    {
      "cell_type": "code",
      "source": [
        "#TRAIN DATA : comparing YTRAIN and YPRED TRAIN based on results to see what percentage of True Postives were returned from first 10 results(\n",
        "    # RESULT 100 ACCURATE FOR FIRST 10 DATA)\n",
        "print(y_train[:10])\n",
        "print(y_pred_MulticlassTrain[:10])"
      ],
      "metadata": {
        "colab": {
          "base_uri": "https://localhost:8080/"
        },
        "id": "N5b01a0AvMQ3",
        "outputId": "a88f7365-6506-4169-dff2-bbb0eb8c740c"
      },
      "execution_count": 45,
      "outputs": [
        {
          "output_type": "stream",
          "name": "stdout",
          "text": [
            "[6 9 9 4 1 1 2 7 8 3]\n",
            "[6, 9, 9, 4, 1, 1, 2, 7, 8, 3]\n"
          ]
        }
      ]
    },
    {
      "cell_type": "code",
      "source": [
        "plot_sample(X_test,y_test,5)"
      ],
      "metadata": {
        "colab": {
          "base_uri": "https://localhost:8080/",
          "height": 173
        },
        "id": "RpK02Xz-f5sQ",
        "outputId": "7da0f807-42aa-4a10-f01a-7b9c06f0c979"
      },
      "execution_count": 53,
      "outputs": [
        {
          "output_type": "display_data",
          "data": {
            "text/plain": [
              "<Figure size 360x144 with 1 Axes>"
            ],
            "image/png": "[encoded data removed]"
          },
          "metadata": {
            "needs_background": "light"
          }
        }
      ]
    },
    {
      "cell_type": "code",
      "source": [
        "classes"
      ],
      "metadata": {
        "colab": {
          "base_uri": "https://localhost:8080/"
        },
        "id": "Siwiz7nUgQJi",
        "outputId": "5fa8b7fd-8608-4e35-ff1a-6bb956873af5"
      },
      "execution_count": 47,
      "outputs": [
        {
          "output_type": "execute_result",
          "data": {
            "text/plain": [
              "['airplane',\n",
              " 'automobile',\n",
              " 'bird',\n",
              " 'cat',\n",
              " 'deer',\n",
              " 'dog',\n",
              " 'frog',\n",
              " 'horse',\n",
              " 'ship',\n",
              " 'truck']"
            ]
          },
          "metadata": {},
          "execution_count": 47
        }
      ]
    },
    {
      "cell_type": "code",
      "source": [
        "# print(y_test[:10])\n",
        "# [3 8 8 0 6 6 1 6 3 1]\n",
        "# print(y_pred_Multiclass[:10])\n",
        "# [3, 8, 8, 0, 6, 6, 1, 6, 3, 1]\n",
        "classes[y_pred_Multiclass[5]]\n",
        "\n",
        "#plot_sample(X_test,y_test,9) gave automobile as OUTPUT\n",
        "#classes[y_pred_Multiclass[9]] gave automobile as OUTPUT\n",
        "\n",
        "#plot_sample(X_test,y_test,5) gave frog as OUTPUT\n",
        "#classes[y_pred_Multiclass[5]] gave frog as OUTPUT"
      ],
      "metadata": {
        "colab": {
          "base_uri": "https://localhost:8080/",
          "height": 35
        },
        "id": "Kcvub5lhgDMw",
        "outputId": "959b6ccf-7b01-432e-dc6c-15f5d100cf59"
      },
      "execution_count": 55,
      "outputs": [
        {
          "output_type": "execute_result",
          "data": {
            "text/plain": [
              "'frog'"
            ],
            "application/vnd.google.colaboratory.intrinsic+json": {
              "type": "string"
            }
          },
          "metadata": {},
          "execution_count": 55
        }
      ]
    },
    {
      "cell_type": "code",
      "source": [
        "# CONFUSION MATRIX FOR TEST DATA - DATA BEST ALIGNED AT DIAGONALS\n",
        "confusion_matrix(y_test,y_pred_Multiclass)"
      ],
      "metadata": {
        "colab": {
          "base_uri": "https://localhost:8080/"
        },
        "id": "5-KPEofbhhC9",
        "outputId": "4896813c-740f-45a5-a3ac-647909c77e23"
      },
      "execution_count": 58,
      "outputs": [
        {
          "output_type": "execute_result",
          "data": {
            "text/plain": [
              "array([[719,  20,  70,  22,  22,  11,   6,  15,  74,  41],\n",
              "       [ 29, 766,   8,  16,   7,  11,  11,   4,  35, 113],\n",
              "       [ 57,  11, 542,  90,  89,  79,  63,  40,  18,  11],\n",
              "       [ 24,   6,  55, 484,  63, 218,  51,  53,  21,  25],\n",
              "       [ 32,   7,  63,  88, 595,  57,  46,  96,  11,   5],\n",
              "       [  9,   3,  57, 148,  40, 637,  19,  61,  10,  16],\n",
              "       [  6,   5,  48,  97,  48,  39, 728,  13,   8,   8],\n",
              "       [ 22,   8,  28,  47,  55,  74,   8, 736,   6,  16],\n",
              "       [ 71,  37,  18,  17,   8,  14,   7,   8, 788,  32],\n",
              "       [ 35,  81,  14,  19,   6,  16,   5,  13,  28, 783]])"
            ]
          },
          "metadata": {},
          "execution_count": 58
        }
      ]
    },
    {
      "cell_type": "code",
      "source": [
        "# CONFUSION MATRIX FOR TEST DATA - DATA BEST ALIGNED AT DIAGONALS\n",
        "confusion_matrix(y_train,y_pred_MulticlassTrain)"
      ],
      "metadata": {
        "colab": {
          "base_uri": "https://localhost:8080/"
        },
        "id": "dI8B041JhzDR",
        "outputId": "eed8dfcb-3e2c-4cc4-da6f-92daee79766d"
      },
      "execution_count": 59,
      "outputs": [
        {
          "output_type": "execute_result",
          "data": {
            "text/plain": [
              "array([[4856,    6,   32,   17,   17,    5,    2,    1,   41,   23],\n",
              "       [   8, 4908,    3,    6,    2,    3,    2,    0,   13,   55],\n",
              "       [  34,    0, 4669,   84,   60,   83,   27,   22,   12,    9],\n",
              "       [  14,    4,   32, 4536,   27,  326,   26,   21,    6,    8],\n",
              "       [  17,    1,   20,   64, 4726,   82,   25,   54,    7,    4],\n",
              "       [   1,    0,   14,   96,   18, 4820,    2,   41,    3,    5],\n",
              "       [  12,    3,   36,   87,   28,   26, 4797,    2,    3,    6],\n",
              "       [   3,    1,    7,   14,    8,   35,    4, 4919,    1,    8],\n",
              "       [  25,    3,    2,    8,    2,    3,    3,    1, 4938,   15],\n",
              "       [   5,   14,    0,    3,    1,    2,    0,    4,    8, 4963]])"
            ]
          },
          "metadata": {},
          "execution_count": 59
        }
      ]
    },
    {
      "cell_type": "code",
      "source": [
        "modelCNN.summary()"
      ],
      "metadata": {
        "colab": {
          "base_uri": "https://localhost:8080/"
        },
        "id": "_XYyRaVIlKqq",
        "outputId": "538a2747-2a3a-4a72-f598-4c7a2d8c7299"
      },
      "execution_count": 61,
      "outputs": [
        {
          "output_type": "stream",
          "name": "stdout",
          "text": [
            "Model: \"sequential\"\n",
            "_________________________________________________________________\n",
            " Layer (type)                Output Shape              Param #   \n",
            "=================================================================\n",
            " conv2d (Conv2D)             (None, 30, 30, 32)        896       \n",
            "                                                                 \n",
            " max_pooling2d (MaxPooling2D  (None, 15, 15, 32)       0         \n",
            " )                                                               \n",
            "                                                                 \n",
            " conv2d_1 (Conv2D)           (None, 13, 13, 64)        18496     \n",
            "                                                                 \n",
            " max_pooling2d_1 (MaxPooling  (None, 6, 6, 64)         0         \n",
            " 2D)                                                             \n",
            "                                                                 \n",
            " flatten (Flatten)           (None, 2304)              0         \n",
            "                                                                 \n",
            " dense (Dense)               (None, 64)                147520    \n",
            "                                                                 \n",
            " dense_1 (Dense)             (None, 10)                650       \n",
            "                                                                 \n",
            "=================================================================\n",
            "Total params: 167,562\n",
            "Trainable params: 167,562\n",
            "Non-trainable params: 0\n",
            "_________________________________________________________________\n"
          ]
        }
      ]
    }
  ]
}